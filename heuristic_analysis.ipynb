{
 "cells": [
  {
   "cell_type": "markdown",
   "metadata": {
    "deletable": true,
    "editable": true
   },
   "source": [
    "# Heuristic Analysis\n",
    "\n",
    "## Introduction and Game Rules\n",
    "\n",
    "In scope of this project was implemented an adversarial search agent to play the game \"**Isolation**\".\n",
    "\n",
    "Isolation is a _deterministic_, two-player _game of perfect information_ in which the players alternate turns moving a single piece from one cell to another on a board. Whenever either player occupies a cell, that cell becomes blocked for the remainder of the game. The first player with no remaining legal moves loses, and the opponent is declared the winner. These rules are implemented in the isolation.\n",
    "\n",
    "This project uses a version of Isolation where each agent is restricted to _L-shaped movements_ (like a knight in chess) on a rectangular 7 x 7 grid.\n",
    "\n",
    "Additionally, agents will have a _fixed time limit_ each turn to search for the best move and respond. If the time limit expires during a player's turn, that player forfeits the match, and the opponent wins.\n",
    "\n",
    "## Solution and Heuristics Implemented\n",
    "\n",
    "The solution was programmed in Python based on the framework provided here https://github.com/almazurenkin/AIND-Isolation. \n",
    "The framework defines class Game (`isolation.py`) that implements a model for the game Isolation assuming each player moves like a knight in chess.\n",
    "\n",
    "Implemented two game-playing AI agents (`game_gent.py`) based on _minimax_ and _alpha-beta pruning_ algorithms for searching the _game tree_. In addition, alpha-beta pruning -based agent uses _iterative deepening_ technic in order to reach maximum search depth within a set time constraint. .\n",
    "\n",
    "Three heuristic evaluation functions were defined, each of them implemnts a certain (basic) game strategy.\n",
    "\n",
    ">* `custom_score(...)`\n",
    "\n",
    ">Implements `#my_moves`, simple evaluation logic that prioritizes branches with maximum number of possible moves.\n",
    "\n",
    ">* `custom_score_2(...)`\n",
    "\n",
    ">Implements `#my_moves-#opponent_moves` explained in a lecture, This evaluation function takes into account number of opponent's moves left and prioritizes  moves with a higher difference. Similar to the baseline `improved_score(...)` heuristic enhanced with an `AGGRESSION` parameter.\n",
    "    \n",
    ">* `custom_score_3(...)`\n",
    "\n",
    ">Implements `blocking strategy`: prioritize moves that overlap with possible opponent's moves.\n",
    "\n",
    "## Comparison and Conclusion\n",
    "\n",
    "Script `tournament.py` was used to benchmark performance of different heuristics described above against reference agents defined in `sample_players.py`. The three `AB_Custom` agents use ID and alpha-beta search with the custom_score functions from `game_agent.py`.\n",
    "\n",
    "Results are shown below."
   ]
  },
  {
   "cell_type": "raw",
   "metadata": {
    "deletable": true,
    "editable": true
   },
   "source": [
    "                        *************************                         \n",
    "                             Playing Matches                              \n",
    "                        *************************                         \n",
    "\n",
    " Match #   Opponent    AB_Improved   AB_Custom   AB_Custom_2  AB_Custom_3 \n",
    "                        Won | Lost   Won | Lost   Won | Lost   Won | Lost \n",
    "    1       Random      10  |   0     7  |   3    10  |   0     9  |   1  \n",
    "    2       MM_Open      7  |   3     7  |   3     9  |   1     6  |   4  \n",
    "    3      MM_Center     8  |   2     7  |   3     9  |   1     8  |   2  \n",
    "    4     MM_Improved    7  |   3     6  |   4     6  |   4     6  |   4  \n",
    "    5       AB_Open      8  |   2     6  |   4     4  |   6     5  |   5  \n",
    "    6      AB_Center     6  |   4     4  |   6     8  |   2     5  |   5  \n",
    "    7     AB_Improved    5  |   5     5  |   5     5  |   5     4  |   6  \n",
    "--------------------------------------------------------------------------\n",
    "           Win Rate:      72.9%        60.0%        72.9%        61.4%      "
   ]
  },
  {
   "cell_type": "markdown",
   "metadata": {
    "deletable": true,
    "editable": true
   },
   "source": [
    "We see that players that use defined heuristics outperform reference opponents (prefix in the agent's name is MM for minimax and AB for alpha-beta pruning).\n",
    "\n",
    "As expected, performance of \"AB_Custom_2\" player is close to the one of \"AB_Improved\". Clearly, heuristics it uses is the best out of the three tested. Hence, \"AB_Custom_2\" is recommended due to its superior performance (72.9% against 60% and 61.4% of \"AB_Custom\" and \"AB_Custom_3\", correspondingly). The function is relatively simple that allows deeper search, yet efficient in predicting game's outcome even if not (always) reaching end-game leafs.\n",
    "\n",
    "This brief experimentation shows that selection of a good playing strategy implemented in a form of a board evaluation function, is an important factor of game-playing agent performance.\n",
    "\n",
    "More complex heuristics _may_ improve performance of our game-playing agent, however, it's important to remember that simple and faster heuristic function will allow deeper search in the game tree, which can produce a better player than a shallow search with better evaluation."
   ]
  }
 ],
 "metadata": {
  "celltoolbar": "Edit Metadata",
  "kernelspec": {
   "display_name": "Python 3",
   "language": "python",
   "name": "python3"
  },
  "language_info": {
   "codemirror_mode": {
    "name": "ipython",
    "version": 3
   },
   "file_extension": ".py",
   "mimetype": "text/x-python",
   "name": "python",
   "nbconvert_exporter": "python",
   "pygments_lexer": "ipython3",
   "version": "3.6.0"
  }
 },
 "nbformat": 4,
 "nbformat_minor": 2
}
